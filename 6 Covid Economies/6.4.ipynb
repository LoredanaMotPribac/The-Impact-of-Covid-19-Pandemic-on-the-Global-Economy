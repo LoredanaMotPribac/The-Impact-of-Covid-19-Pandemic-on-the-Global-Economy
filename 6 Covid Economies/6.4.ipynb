{
 "cells": [
  {
   "cell_type": "code",
   "execution_count": 1,
   "id": "persistent-precipitation",
   "metadata": {},
   "outputs": [],
   "source": [
    "import pandas as pd\n",
    "import numpy as np\n",
    "import seaborn as sns\n",
    "import matplotlib\n",
    "import matplotlib.pyplot as plt\n",
    "import os\n",
    "import sklearn\n",
    "from sklearn.model_selection import train_test_split \n",
    "from sklearn.linear_model import LinearRegression\n",
    "from sklearn.metrics import mean_squared_error, r2_score"
   ]
  },
  {
   "cell_type": "code",
   "execution_count": 6,
   "id": "numeric-poland",
   "metadata": {},
   "outputs": [],
   "source": [
    "df = pd.read_csv(r'C:\\Users\\Lore\\12.2020ProiectCursDA\\6 Covid Economies\\df.csv', index_col = False)"
   ]
  },
  {
   "cell_type": "code",
   "execution_count": 7,
   "id": "electoral-bulgaria",
   "metadata": {},
   "outputs": [],
   "source": [
    "path = r'C:\\Users\\Lore\\12.2020ProiectCursDA'"
   ]
  },
  {
   "cell_type": "code",
   "execution_count": 8,
   "id": "olympic-stick",
   "metadata": {},
   "outputs": [
    {
     "data": {
      "text/plain": [
       "'C:\\\\Users\\\\Lore\\\\12.2020ProiectCursDA'"
      ]
     },
     "execution_count": 8,
     "metadata": {},
     "output_type": "execute_result"
    }
   ],
   "source": [
    "path"
   ]
  },
  {
   "cell_type": "code",
   "execution_count": 10,
   "id": "early-julian",
   "metadata": {},
   "outputs": [
    {
     "data": {
      "text/plain": [
       "Index(['Unnamed: 0', 'CODE', 'COUNTRY', 'CITY', 'CONTINENT', 'EU', 'DATE',\n",
       "       'HDI', 'TC', 'TD', 'STI', 'Population', 'GDPCAP'],\n",
       "      dtype='object')"
      ]
     },
     "execution_count": 10,
     "metadata": {},
     "output_type": "execute_result"
    }
   ],
   "source": [
    "#Q3\n",
    "df.columns"
   ]
  },
  {
   "cell_type": "code",
   "execution_count": 11,
   "id": "royal-sperm",
   "metadata": {},
   "outputs": [],
   "source": [
    "df.drop([\"Unnamed: 0\"], axis=1, inplace = True)"
   ]
  },
  {
   "cell_type": "code",
   "execution_count": 12,
   "id": "spiritual-breast",
   "metadata": {},
   "outputs": [
    {
     "data": {
      "text/html": [
       "<div>\n",
       "<style scoped>\n",
       "    .dataframe tbody tr th:only-of-type {\n",
       "        vertical-align: middle;\n",
       "    }\n",
       "\n",
       "    .dataframe tbody tr th {\n",
       "        vertical-align: top;\n",
       "    }\n",
       "\n",
       "    .dataframe thead th {\n",
       "        text-align: right;\n",
       "    }\n",
       "</style>\n",
       "<table border=\"1\" class=\"dataframe\">\n",
       "  <thead>\n",
       "    <tr style=\"text-align: right;\">\n",
       "      <th></th>\n",
       "      <th>CODE</th>\n",
       "      <th>COUNTRY</th>\n",
       "      <th>CITY</th>\n",
       "      <th>CONTINENT</th>\n",
       "      <th>EU</th>\n",
       "      <th>DATE</th>\n",
       "      <th>HDI</th>\n",
       "      <th>TC</th>\n",
       "      <th>TD</th>\n",
       "      <th>STI</th>\n",
       "      <th>Population</th>\n",
       "      <th>GDPCAP</th>\n",
       "    </tr>\n",
       "  </thead>\n",
       "  <tbody>\n",
       "    <tr>\n",
       "      <th>0</th>\n",
       "      <td>AFG</td>\n",
       "      <td>Afghanistan</td>\n",
       "      <td>Kabul</td>\n",
       "      <td>Asia</td>\n",
       "      <td>No</td>\n",
       "      <td>12/31/2019</td>\n",
       "      <td>0.498</td>\n",
       "      <td>0.0</td>\n",
       "      <td>0.0</td>\n",
       "      <td>0.0</td>\n",
       "      <td>17.477233</td>\n",
       "      <td>7.497754</td>\n",
       "    </tr>\n",
       "    <tr>\n",
       "      <th>1</th>\n",
       "      <td>AFG</td>\n",
       "      <td>Afghanistan</td>\n",
       "      <td>Kabul</td>\n",
       "      <td>Asia</td>\n",
       "      <td>No</td>\n",
       "      <td>1/1/2020</td>\n",
       "      <td>0.498</td>\n",
       "      <td>0.0</td>\n",
       "      <td>0.0</td>\n",
       "      <td>0.0</td>\n",
       "      <td>17.477233</td>\n",
       "      <td>7.497754</td>\n",
       "    </tr>\n",
       "    <tr>\n",
       "      <th>2</th>\n",
       "      <td>AFG</td>\n",
       "      <td>Afghanistan</td>\n",
       "      <td>Kabul</td>\n",
       "      <td>Asia</td>\n",
       "      <td>No</td>\n",
       "      <td>1/2/2020</td>\n",
       "      <td>0.498</td>\n",
       "      <td>0.0</td>\n",
       "      <td>0.0</td>\n",
       "      <td>0.0</td>\n",
       "      <td>17.477233</td>\n",
       "      <td>7.497754</td>\n",
       "    </tr>\n",
       "    <tr>\n",
       "      <th>3</th>\n",
       "      <td>AFG</td>\n",
       "      <td>Afghanistan</td>\n",
       "      <td>Kabul</td>\n",
       "      <td>Asia</td>\n",
       "      <td>No</td>\n",
       "      <td>1/3/2020</td>\n",
       "      <td>0.498</td>\n",
       "      <td>0.0</td>\n",
       "      <td>0.0</td>\n",
       "      <td>0.0</td>\n",
       "      <td>17.477233</td>\n",
       "      <td>7.497754</td>\n",
       "    </tr>\n",
       "    <tr>\n",
       "      <th>4</th>\n",
       "      <td>AFG</td>\n",
       "      <td>Afghanistan</td>\n",
       "      <td>Kabul</td>\n",
       "      <td>Asia</td>\n",
       "      <td>No</td>\n",
       "      <td>1/4/2020</td>\n",
       "      <td>0.498</td>\n",
       "      <td>0.0</td>\n",
       "      <td>0.0</td>\n",
       "      <td>0.0</td>\n",
       "      <td>17.477233</td>\n",
       "      <td>7.497754</td>\n",
       "    </tr>\n",
       "  </tbody>\n",
       "</table>\n",
       "</div>"
      ],
      "text/plain": [
       "  CODE      COUNTRY   CITY CONTINENT  EU        DATE    HDI   TC   TD  STI  \\\n",
       "0  AFG  Afghanistan  Kabul      Asia  No  12/31/2019  0.498  0.0  0.0  0.0   \n",
       "1  AFG  Afghanistan  Kabul      Asia  No    1/1/2020  0.498  0.0  0.0  0.0   \n",
       "2  AFG  Afghanistan  Kabul      Asia  No    1/2/2020  0.498  0.0  0.0  0.0   \n",
       "3  AFG  Afghanistan  Kabul      Asia  No    1/3/2020  0.498  0.0  0.0  0.0   \n",
       "4  AFG  Afghanistan  Kabul      Asia  No    1/4/2020  0.498  0.0  0.0  0.0   \n",
       "\n",
       "   Population    GDPCAP  \n",
       "0   17.477233  7.497754  \n",
       "1   17.477233  7.497754  \n",
       "2   17.477233  7.497754  \n",
       "3   17.477233  7.497754  \n",
       "4   17.477233  7.497754  "
      ]
     },
     "execution_count": 12,
     "metadata": {},
     "output_type": "execute_result"
    }
   ],
   "source": [
    "df.head()"
   ]
  },
  {
   "cell_type": "code",
   "execution_count": 13,
   "id": "compound-generation",
   "metadata": {},
   "outputs": [
    {
     "data": {
      "text/plain": [
       "(49991, 12)"
      ]
     },
     "execution_count": 13,
     "metadata": {},
     "output_type": "execute_result"
    }
   ],
   "source": [
    "df.shape"
   ]
  },
  {
   "cell_type": "code",
   "execution_count": 14,
   "id": "celtic-pleasure",
   "metadata": {},
   "outputs": [
    {
     "data": {
      "text/plain": [
       "CODE          0\n",
       "COUNTRY       0\n",
       "CITY          0\n",
       "CONTINENT     0\n",
       "EU            0\n",
       "DATE          0\n",
       "HDI           0\n",
       "TC            0\n",
       "TD            0\n",
       "STI           0\n",
       "Population    0\n",
       "GDPCAP        0\n",
       "dtype: int64"
      ]
     },
     "execution_count": 14,
     "metadata": {},
     "output_type": "execute_result"
    }
   ],
   "source": [
    "# Check for missing values\n",
    "df.isnull().sum()"
   ]
  },
  {
   "cell_type": "markdown",
   "id": "extreme-profile",
   "metadata": {},
   "source": [
    "No missing values to handle"
   ]
  },
  {
   "cell_type": "code",
   "execution_count": 15,
   "id": "dedicated-respect",
   "metadata": {},
   "outputs": [],
   "source": [
    "#Duplicates check\n",
    "dups = df.duplicated()"
   ]
  },
  {
   "cell_type": "code",
   "execution_count": 16,
   "id": "excellent-herald",
   "metadata": {},
   "outputs": [
    {
     "data": {
      "text/plain": [
       "0        False\n",
       "1        False\n",
       "2        False\n",
       "3        False\n",
       "4        False\n",
       "         ...  \n",
       "49986    False\n",
       "49987    False\n",
       "49988    False\n",
       "49989    False\n",
       "49990    False\n",
       "Length: 49991, dtype: bool"
      ]
     },
     "execution_count": 16,
     "metadata": {},
     "output_type": "execute_result"
    }
   ],
   "source": [
    "dups"
   ]
  },
  {
   "cell_type": "code",
   "execution_count": 17,
   "id": "postal-factory",
   "metadata": {},
   "outputs": [
    {
     "data": {
      "text/plain": [
       "(49991,)"
      ]
     },
     "execution_count": 17,
     "metadata": {},
     "output_type": "execute_result"
    }
   ],
   "source": [
    "dups.shape"
   ]
  },
  {
   "cell_type": "markdown",
   "id": "respected-institute",
   "metadata": {},
   "source": [
    "No duplicates"
   ]
  },
  {
   "cell_type": "markdown",
   "id": "intense-richmond",
   "metadata": {},
   "source": [
    "#Extreme values checks"
   ]
  },
  {
   "cell_type": "code",
   "execution_count": 55,
   "id": "registered-yahoo",
   "metadata": {},
   "outputs": [
    {
     "name": "stderr",
     "output_type": "stream",
     "text": [
      "C:\\Users\\Lore\\anaconda3\\lib\\site-packages\\seaborn\\distributions.py:2557: FutureWarning: `distplot` is a deprecated function and will be removed in a future version. Please adapt your code to use either `displot` (a figure-level function with similar flexibility) or `histplot` (an axes-level function for histograms).\n",
      "  warnings.warn(msg, FutureWarning)\n"
     ]
    },
    {
     "data": {
      "text/plain": [
       "<AxesSubplot:xlabel='Population', ylabel='Density'>"
      ]
     },
     "execution_count": 55,
     "metadata": {},
     "output_type": "execute_result"
    },
    {
     "data": {
      "image/png": "[encoded data removed]",
      "text/plain": [
       "<Figure size 432x288 with 1 Axes>"
      ]
     },
     "metadata": {
      "needs_background": "light"
     },
     "output_type": "display_data"
    }
   ],
   "source": [
    "sns.distplot(df['Population'], bins=25) "
   ]
  },
  {
   "cell_type": "code",
   "execution_count": 56,
   "id": "human-zimbabwe",
   "metadata": {},
   "outputs": [
    {
     "data": {
      "text/plain": [
       "15.484867820723176"
      ]
     },
     "execution_count": 56,
     "metadata": {},
     "output_type": "execute_result"
    }
   ],
   "source": [
    "df['Population'].mean() # Check the mean"
   ]
  },
  {
   "cell_type": "code",
   "execution_count": 57,
   "id": "prerequisite-classification",
   "metadata": {},
   "outputs": [
    {
     "data": {
      "text/plain": [
       "15.97360361"
      ]
     },
     "execution_count": 57,
     "metadata": {},
     "output_type": "execute_result"
    }
   ],
   "source": [
    "df['Population'].median() # Check the median"
   ]
  },
  {
   "cell_type": "code",
   "execution_count": 58,
   "id": "under-mercury",
   "metadata": {},
   "outputs": [
    {
     "data": {
      "text/plain": [
       "21.08743924"
      ]
     },
     "execution_count": 58,
     "metadata": {},
     "output_type": "execute_result"
    }
   ],
   "source": [
    "df['Population'].max() # Check the max"
   ]
  },
  {
   "cell_type": "code",
   "execution_count": null,
   "id": "coral-census",
   "metadata": {},
   "outputs": [],
   "source": [
    "#Q4 Data prep for regression analysis"
   ]
  },
  {
   "cell_type": "code",
   "execution_count": 59,
   "id": "remarkable-consistency",
   "metadata": {},
   "outputs": [
    {
     "data": {
      "image/png": "[encoded data removed]",
      "text/plain": [
       "<Figure size 432x288 with 1 Axes>"
      ]
     },
     "metadata": {
      "needs_background": "light"
     },
     "output_type": "display_data"
    }
   ],
   "source": [
    "# Create a scatterplot using matplotlib for another look at how the chosen variables plot against each other.\n",
    "\n",
    "df.plot(x = 'Population', y='TD',style='o') \n",
    "plt.title('Population vs TD')  \n",
    "plt.xlabel('Population')  \n",
    "plt.ylabel('TD')  \n",
    "plt.show()"
   ]
  },
  {
   "cell_type": "markdown",
   "id": "recorded-bible",
   "metadata": {},
   "source": [
    "#Q5\n",
    "The larger the population, the higher the total number of deaths. They are directly connected. The hypothesis is verified.  "
   ]
  },
  {
   "cell_type": "code",
   "execution_count": 60,
   "id": "clinical-sussex",
   "metadata": {},
   "outputs": [],
   "source": [
    "#Q6 Reshape the variables into NumPy arrays and put them into separate objects.\n",
    "\n",
    "X = df['Population'].values.reshape(-1,1)\n",
    "y = df['TD'].values.reshape(-1,1)"
   ]
  },
  {
   "cell_type": "code",
   "execution_count": 61,
   "id": "moral-plymouth",
   "metadata": {},
   "outputs": [
    {
     "data": {
      "text/plain": [
       "array([[17.4772331 ],\n",
       "       [17.4772331 ],\n",
       "       [17.4772331 ],\n",
       "       ...,\n",
       "       [16.51438055],\n",
       "       [16.51438055],\n",
       "       [16.51438055]])"
      ]
     },
     "execution_count": 61,
     "metadata": {},
     "output_type": "execute_result"
    }
   ],
   "source": [
    "X"
   ]
  },
  {
   "cell_type": "code",
   "execution_count": 62,
   "id": "defined-difficulty",
   "metadata": {},
   "outputs": [
    {
     "data": {
      "text/plain": [
       "array([[0.        ],\n",
       "       [0.        ],\n",
       "       [0.        ],\n",
       "       ...,\n",
       "       [5.44241771],\n",
       "       [5.44241771],\n",
       "       [5.44241771]])"
      ]
     },
     "execution_count": 62,
     "metadata": {},
     "output_type": "execute_result"
    }
   ],
   "source": [
    "y"
   ]
  },
  {
   "cell_type": "code",
   "execution_count": 63,
   "id": "defined-marker",
   "metadata": {},
   "outputs": [],
   "source": [
    "#Q7 Split data into a training set and a test set.\n",
    "\n",
    "X_train, X_test, y_train, y_test = train_test_split(X, y, test_size=0.3, random_state=0)"
   ]
  },
  {
   "cell_type": "code",
   "execution_count": 64,
   "id": "spoken-commercial",
   "metadata": {},
   "outputs": [],
   "source": [
    "#Q8\n",
    "# Create a regression object.\n",
    "regression = LinearRegression()  # This is the regression object, which will be fit onto the training set."
   ]
  },
  {
   "cell_type": "code",
   "execution_count": 65,
   "id": "cubic-publicity",
   "metadata": {},
   "outputs": [
    {
     "data": {
      "text/plain": [
       "LinearRegression()"
      ]
     },
     "execution_count": 65,
     "metadata": {},
     "output_type": "execute_result"
    }
   ],
   "source": [
    "# Fit the regression object onto the training set.\n",
    "regression.fit(X_train, y_train)"
   ]
  },
  {
   "cell_type": "code",
   "execution_count": 66,
   "id": "sharp-validity",
   "metadata": {},
   "outputs": [],
   "source": [
    "# Predict the values of y using X.\n",
    "y_predicted = regression.predict(X_test)"
   ]
  },
  {
   "cell_type": "code",
   "execution_count": 67,
   "id": "advance-productivity",
   "metadata": {},
   "outputs": [
    {
     "data": {
      "image/png": "[encoded data removed]",
      "text/plain": [
       "<Figure size 432x288 with 1 Axes>"
      ]
     },
     "metadata": {
      "needs_background": "light"
     },
     "output_type": "display_data"
    }
   ],
   "source": [
    "#Q9 Create a plot that shows the regression line from the model on the test set.\n",
    "\n",
    "plot_test = plt\n",
    "plot_test.scatter(X_test, y_test, color='gray', s = 15)\n",
    "plot_test.plot(X_test, y_predicted, color='red', linewidth =3)\n",
    "plot_test.title('Population vs TD(Test set)')\n",
    "plot_test.xlabel('Population')\n",
    "plot_test.ylabel('TD')\n",
    "plot_test.show()"
   ]
  },
  {
   "cell_type": "markdown",
   "id": "handy-czech",
   "metadata": {},
   "source": [
    "#Q10\n",
    "The line fit the data. The line can start from 0, not -2."
   ]
  },
  {
   "cell_type": "code",
   "execution_count": 68,
   "id": "uniform-radar",
   "metadata": {},
   "outputs": [],
   "source": [
    "#Q11 Create objects that contain the model summary statistics.\n",
    "\n",
    "rmse = mean_squared_error(y_test, y_predicted) # This is the mean squared error\n",
    "r2 = r2_score(y_test, y_predicted) # This is the R2 score. "
   ]
  },
  {
   "cell_type": "code",
   "execution_count": 69,
   "id": "considered-graduate",
   "metadata": {},
   "outputs": [
    {
     "name": "stdout",
     "output_type": "stream",
     "text": [
      "Slope: [[0.60221017]]\n",
      "Mean squared error:  7.263076607296112\n",
      "R2 score:  0.23908487647874566\n"
     ]
    }
   ],
   "source": [
    "# Print the model summary statistics. This is where you evaluate the performance of the model.\n",
    "\n",
    "print('Slope:' ,regression.coef_)\n",
    "print('Mean squared error: ', rmse)\n",
    "print('R2 score: ', r2)"
   ]
  },
  {
   "cell_type": "code",
   "execution_count": 70,
   "id": "documented-pride",
   "metadata": {},
   "outputs": [
    {
     "data": {
      "text/plain": [
       "array([[4.12041057],\n",
       "       [3.7239489 ],\n",
       "       [5.6516368 ],\n",
       "       ...,\n",
       "       [5.80349401],\n",
       "       [3.17414811],\n",
       "       [3.44218996]])"
      ]
     },
     "execution_count": 70,
     "metadata": {},
     "output_type": "execute_result"
    }
   ],
   "source": [
    "y_predicted"
   ]
  },
  {
   "cell_type": "code",
   "execution_count": 71,
   "id": "protective-factor",
   "metadata": {},
   "outputs": [
    {
     "data": {
      "text/html": [
       "<div>\n",
       "<style scoped>\n",
       "    .dataframe tbody tr th:only-of-type {\n",
       "        vertical-align: middle;\n",
       "    }\n",
       "\n",
       "    .dataframe tbody tr th {\n",
       "        vertical-align: top;\n",
       "    }\n",
       "\n",
       "    .dataframe thead th {\n",
       "        text-align: right;\n",
       "    }\n",
       "</style>\n",
       "<table border=\"1\" class=\"dataframe\">\n",
       "  <thead>\n",
       "    <tr style=\"text-align: right;\">\n",
       "      <th></th>\n",
       "      <th>Actual</th>\n",
       "      <th>Predicted</th>\n",
       "    </tr>\n",
       "  </thead>\n",
       "  <tbody>\n",
       "    <tr>\n",
       "      <th>0</th>\n",
       "      <td>0.000000</td>\n",
       "      <td>4.120411</td>\n",
       "    </tr>\n",
       "    <tr>\n",
       "      <th>1</th>\n",
       "      <td>5.758902</td>\n",
       "      <td>3.723949</td>\n",
       "    </tr>\n",
       "    <tr>\n",
       "      <th>2</th>\n",
       "      <td>0.000000</td>\n",
       "      <td>5.651637</td>\n",
       "    </tr>\n",
       "    <tr>\n",
       "      <th>3</th>\n",
       "      <td>4.234107</td>\n",
       "      <td>4.343278</td>\n",
       "    </tr>\n",
       "    <tr>\n",
       "      <th>4</th>\n",
       "      <td>5.755742</td>\n",
       "      <td>3.835852</td>\n",
       "    </tr>\n",
       "    <tr>\n",
       "      <th>5</th>\n",
       "      <td>0.000000</td>\n",
       "      <td>1.403610</td>\n",
       "    </tr>\n",
       "    <tr>\n",
       "      <th>6</th>\n",
       "      <td>0.000000</td>\n",
       "      <td>-0.104766</td>\n",
       "    </tr>\n",
       "    <tr>\n",
       "      <th>7</th>\n",
       "      <td>0.693147</td>\n",
       "      <td>2.955642</td>\n",
       "    </tr>\n",
       "    <tr>\n",
       "      <th>8</th>\n",
       "      <td>0.000000</td>\n",
       "      <td>3.061493</td>\n",
       "    </tr>\n",
       "    <tr>\n",
       "      <th>9</th>\n",
       "      <td>3.367296</td>\n",
       "      <td>3.966680</td>\n",
       "    </tr>\n",
       "    <tr>\n",
       "      <th>10</th>\n",
       "      <td>3.367296</td>\n",
       "      <td>3.966680</td>\n",
       "    </tr>\n",
       "    <tr>\n",
       "      <th>11</th>\n",
       "      <td>0.000000</td>\n",
       "      <td>3.385940</td>\n",
       "    </tr>\n",
       "    <tr>\n",
       "      <th>12</th>\n",
       "      <td>0.000000</td>\n",
       "      <td>2.594428</td>\n",
       "    </tr>\n",
       "    <tr>\n",
       "      <th>13</th>\n",
       "      <td>5.627621</td>\n",
       "      <td>3.859911</td>\n",
       "    </tr>\n",
       "    <tr>\n",
       "      <th>14</th>\n",
       "      <td>0.000000</td>\n",
       "      <td>1.669362</td>\n",
       "    </tr>\n",
       "    <tr>\n",
       "      <th>15</th>\n",
       "      <td>0.000000</td>\n",
       "      <td>3.372618</td>\n",
       "    </tr>\n",
       "    <tr>\n",
       "      <th>16</th>\n",
       "      <td>6.876265</td>\n",
       "      <td>5.338990</td>\n",
       "    </tr>\n",
       "    <tr>\n",
       "      <th>17</th>\n",
       "      <td>1.609438</td>\n",
       "      <td>3.819223</td>\n",
       "    </tr>\n",
       "    <tr>\n",
       "      <th>18</th>\n",
       "      <td>2.079442</td>\n",
       "      <td>2.513724</td>\n",
       "    </tr>\n",
       "    <tr>\n",
       "      <th>19</th>\n",
       "      <td>3.761200</td>\n",
       "      <td>1.862207</td>\n",
       "    </tr>\n",
       "    <tr>\n",
       "      <th>20</th>\n",
       "      <td>3.663562</td>\n",
       "      <td>0.386850</td>\n",
       "    </tr>\n",
       "    <tr>\n",
       "      <th>21</th>\n",
       "      <td>4.454347</td>\n",
       "      <td>3.027357</td>\n",
       "    </tr>\n",
       "    <tr>\n",
       "      <th>22</th>\n",
       "      <td>5.424950</td>\n",
       "      <td>3.889940</td>\n",
       "    </tr>\n",
       "    <tr>\n",
       "      <th>23</th>\n",
       "      <td>0.000000</td>\n",
       "      <td>4.739707</td>\n",
       "    </tr>\n",
       "    <tr>\n",
       "      <th>24</th>\n",
       "      <td>0.000000</td>\n",
       "      <td>2.344464</td>\n",
       "    </tr>\n",
       "    <tr>\n",
       "      <th>25</th>\n",
       "      <td>2.772589</td>\n",
       "      <td>4.887241</td>\n",
       "    </tr>\n",
       "    <tr>\n",
       "      <th>26</th>\n",
       "      <td>0.000000</td>\n",
       "      <td>1.027538</td>\n",
       "    </tr>\n",
       "    <tr>\n",
       "      <th>27</th>\n",
       "      <td>0.000000</td>\n",
       "      <td>2.955642</td>\n",
       "    </tr>\n",
       "    <tr>\n",
       "      <th>28</th>\n",
       "      <td>3.526361</td>\n",
       "      <td>3.975018</td>\n",
       "    </tr>\n",
       "    <tr>\n",
       "      <th>29</th>\n",
       "      <td>5.926926</td>\n",
       "      <td>4.190311</td>\n",
       "    </tr>\n",
       "  </tbody>\n",
       "</table>\n",
       "</div>"
      ],
      "text/plain": [
       "      Actual  Predicted\n",
       "0   0.000000   4.120411\n",
       "1   5.758902   3.723949\n",
       "2   0.000000   5.651637\n",
       "3   4.234107   4.343278\n",
       "4   5.755742   3.835852\n",
       "5   0.000000   1.403610\n",
       "6   0.000000  -0.104766\n",
       "7   0.693147   2.955642\n",
       "8   0.000000   3.061493\n",
       "9   3.367296   3.966680\n",
       "10  3.367296   3.966680\n",
       "11  0.000000   3.385940\n",
       "12  0.000000   2.594428\n",
       "13  5.627621   3.859911\n",
       "14  0.000000   1.669362\n",
       "15  0.000000   3.372618\n",
       "16  6.876265   5.338990\n",
       "17  1.609438   3.819223\n",
       "18  2.079442   2.513724\n",
       "19  3.761200   1.862207\n",
       "20  3.663562   0.386850\n",
       "21  4.454347   3.027357\n",
       "22  5.424950   3.889940\n",
       "23  0.000000   4.739707\n",
       "24  0.000000   2.344464\n",
       "25  2.772589   4.887241\n",
       "26  0.000000   1.027538\n",
       "27  0.000000   2.955642\n",
       "28  3.526361   3.975018\n",
       "29  5.926926   4.190311"
      ]
     },
     "execution_count": 71,
     "metadata": {},
     "output_type": "execute_result"
    }
   ],
   "source": [
    "#Q12 Create a dataframe comparing the actual and predicted values of y.\n",
    "\n",
    "data = pd.DataFrame({'Actual': y_test.flatten(), 'Predicted': y_predicted.flatten()})\n",
    "data.head(30)"
   ]
  },
  {
   "cell_type": "code",
   "execution_count": 72,
   "id": "spiritual-tradition",
   "metadata": {},
   "outputs": [],
   "source": [
    "#Compare how the regression fits the training set"
   ]
  },
  {
   "cell_type": "code",
   "execution_count": 73,
   "id": "lined-effectiveness",
   "metadata": {},
   "outputs": [],
   "source": [
    "# Predict\n",
    "y_predicted_train = regression.predict(X_train) # This is predicting X_train!"
   ]
  },
  {
   "cell_type": "code",
   "execution_count": 74,
   "id": "regulation-bradley",
   "metadata": {},
   "outputs": [],
   "source": [
    "rmse = mean_squared_error(y_train, y_predicted_train)\n",
    "r2 = r2_score(y_train, y_predicted_train)"
   ]
  },
  {
   "cell_type": "code",
   "execution_count": 75,
   "id": "norwegian-housing",
   "metadata": {},
   "outputs": [
    {
     "name": "stdout",
     "output_type": "stream",
     "text": [
      "Slope: [[0.60221017]]\n",
      "Mean squared error:  7.3431621963205265\n",
      "R2 score:  0.22890810380131577\n"
     ]
    }
   ],
   "source": [
    "print('Slope:' ,regression.coef_)\n",
    "print('Mean squared error: ', rmse)\n",
    "print('R2 score: ', r2)"
   ]
  },
  {
   "cell_type": "code",
   "execution_count": 76,
   "id": "automatic-garage",
   "metadata": {},
   "outputs": [
    {
     "data": {
      "image/png": "[encoded data removed]",
      "text/plain": [
       "<Figure size 432x288 with 1 Axes>"
      ]
     },
     "metadata": {
      "needs_background": "light"
     },
     "output_type": "display_data"
    }
   ],
   "source": [
    "# Visualizing the training set results.\n",
    "\n",
    "plot_test = plt\n",
    "plot_test.scatter(X_train, y_train, color='green', s = 15)\n",
    "plot_test.plot(X_train, y_predicted_train, color='red', linewidth =3)\n",
    "plot_test.title('Population vs TD (Test set)')\n",
    "plot_test.xlabel('Population')\n",
    "plot_test.ylabel('TD')\n",
    "plot_test.show()"
   ]
  },
  {
   "cell_type": "markdown",
   "id": "express-survey",
   "metadata": {},
   "source": [
    "#Q13\n",
    "Is big differences between actual data and predicted data. \n",
    "Maybe the TD (total deaths) is a variable that not fit for this test."
   ]
  }
 ],
 "metadata": {
  "kernelspec": {
   "display_name": "Python 3",
   "language": "python",
   "name": "python3"
  },
  "language_info": {
   "codemirror_mode": {
    "name": "ipython",
    "version": 3
   },
   "file_extension": ".py",
   "mimetype": "text/x-python",
   "name": "python",
   "nbconvert_exporter": "python",
   "pygments_lexer": "ipython3",
   "version": "3.7.9"
  }
 },
 "nbformat": 4,
 "nbformat_minor": 5
}
